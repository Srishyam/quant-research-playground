{
 "cells": [
  {
   "cell_type": "code",
   "execution_count": null,
   "metadata": {},
   "outputs": [],
   "source": [
    "import yfinance as yf\n",
    "import os\n",
    "\n",
    "# Create a data folder if it doesn't exist\n",
    "os.makedirs(\"../data\", exist_ok=True)\n",
    "\n",
    "# List of tickers you want to fetch\n",
    "tickers = [\"SPY\", \"QQQ\", \"AAPL\", \"VIX\"]\n",
    "# tickers = [\"SPY\",]\n",
    "start_date = \"2018-01-01\"\n",
    "end_date = \"2025-05-31\"\n",
    "\n",
    "for ticker in tickers:\n",
    "    print(f\"Downloading {ticker}...\")\n",
    "    df = yf.download(ticker, start=start_date, end=end_date, group_by='ticker', multi_level_index=False)\n",
    "    if not df.empty:\n",
    "        df.to_csv(f\"../data/{ticker.lower()}.csv\")\n",
    "        print(f\"Saved {ticker.lower()}.csv\")\n",
    "    else:\n",
    "        print(f\"No data found for {ticker}\")\n"
   ]
  }
 ],
 "metadata": {
  "kernelspec": {
   "display_name": "Python 3",
   "language": "python",
   "name": "python3"
  },
  "language_info": {
   "codemirror_mode": {
    "name": "ipython",
    "version": 3
   },
   "file_extension": ".py",
   "mimetype": "text/x-python",
   "name": "python",
   "nbconvert_exporter": "python",
   "pygments_lexer": "ipython3",
   "version": "3.11.11"
  }
 },
 "nbformat": 4,
 "nbformat_minor": 2
}
