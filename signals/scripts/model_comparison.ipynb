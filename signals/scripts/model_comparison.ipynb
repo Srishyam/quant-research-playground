{
 "cells": [
  {
   "cell_type": "markdown",
   "metadata": {},
   "source": [
    "# About this notebook\n",
    "This notebook looks at SPY ticker values from a dataset and uses various ML models to train and predict the future prices"
   ]
  },
  {
   "cell_type": "markdown",
   "metadata": {},
   "source": [
    "## Install required libraries"
   ]
  },
  {
   "cell_type": "code",
   "execution_count": null,
   "metadata": {},
   "outputs": [],
   "source": [
    "# !pip install scikit-learn\n",
    "# !pip install xgboost"
   ]
  },
  {
   "cell_type": "markdown",
   "metadata": {},
   "source": [
    "# Model 1 - Random Forest Classifier\n",
    "* Install scikit-learn for this one\n",
    "* Use the RandomForestClassifier model from sklearn.ensemble\n",
    "* Load the CSV file of the ticker as a data frame and index it by dates\n",
    "* Define required features:\n",
    "    * Return - fractional change of stock values at close from previous day\n",
    "    * Volatility - Rolling standard deviation of Returns; rolling window set to 10\n",
    "    * Momentum - Rate of change of stock from n days ago\n",
    "    * SMA_10 - 10 day rolling average of closing prices\n",
    "    * SMA_50 - 50 day rolling average of closing prices\n",
    "    * SMA ratio - Ratio of differences rolling means (i.e., ratio of (mean_10 - mean_50) to mean_50)\n",
    "* Define the target as follows:\n",
    "    * Set Future Return (5) = (Closing price at [n + 5 days] - Closing price at [n days])/Closing price at [n days]\n",
    "    * Set Signal as the binary classification target: if the future return is > 0, price is expected to go up, signal is 1; else the signal is 0\n",
    "* Train and optimize the Random Forest Classifier\n",
    "* Prediction results to be compared with XGBoost model"
   ]
  },
  {
   "cell_type": "code",
   "execution_count": 69,
   "metadata": {},
   "outputs": [
    {
     "name": "stdout",
     "output_type": "stream",
     "text": [
      "              precision    recall  f1-score   support\n",
      "\n",
      "           0       0.41      0.28      0.33       138\n",
      "           1       0.63      0.75      0.68       224\n",
      "\n",
      "    accuracy                           0.57       362\n",
      "   macro avg       0.52      0.51      0.51       362\n",
      "weighted avg       0.54      0.57      0.55       362\n",
      "\n"
     ]
    }
   ],
   "source": [
    "import pandas as pd\n",
    "import numpy as np\n",
    "from sklearn.model_selection import train_test_split\n",
    "from sklearn.ensemble import RandomForestClassifier\n",
    "from sklearn.metrics import classification_report, confusion_matrix\n",
    "import matplotlib.pyplot as plt\n",
    "\n",
    "# Load SPY data\n",
    "spy_path = \"../data/spy.csv\"\n",
    "# Read data and index it by dates\n",
    "df = pd.read_csv(spy_path, parse_dates=[\"Date\"], index_col=\"Date\")\n",
    "\n",
    "# Basic preprocessing\n",
    "df = df[[\"Close\", \"Volume\", \"Open\"]].dropna()\n",
    "\n",
    "# Assign relevant features:\n",
    "# Return - fractional change of stock values at close from previous day\n",
    "# Volatility - Rolling standard deviation of Returns; rolling window set to 10\n",
    "# Momentum - Rate of change of stock from 10 days ago\n",
    "# SMA_10 - 10 day rolling average of closing prices\n",
    "# SMA_50 - 50 day rolling average of closing prices\n",
    "# SMA ratio - Ratio of differences rolling means (i.e., ratio of (mean_10 - mean_50) to mean_50)\n",
    "df[\"Return\"] = df[\"Close\"].pct_change()\n",
    "df[\"Volatility\"] = df[\"Return\"].rolling(window=10).std()\n",
    "df[\"Momentum\"] = df[\"Close\"] / df[\"Close\"].shift(10) - 1\n",
    "df[\"SMA_10\"] = df[\"Close\"].rolling(window=10).mean()\n",
    "df[\"SMA_50\"] = df[\"Close\"].rolling(window=50).mean()\n",
    "# df[\"SMA_ratio\"] = df[\"SMA_10\"] / df[\"SMA_50\"] - 1\n",
    "df = df.dropna()\n",
    "\n",
    "# Label generation: Predict if return over next 5 days is positive\n",
    "df[\"FutureReturn5\"] = df[\"Close\"].shift(-5) / df[\"Close\"] - 1\n",
    "df[\"Signal\"] = (df[\"FutureReturn5\"] > 0).astype(int)\n",
    "df = df.dropna()\n",
    "\n",
    "# Features and target\n",
    "# features = [\"Return\", \"Volatility\", \"Momentum\", \"SMA_ratio\"]\n",
    "features = [\"Return\", \"Volatility\", \"Momentum\", ]\n",
    "X = df[features]\n",
    "y = df[\"Signal\"]\n",
    "\n",
    "\n",
    "# Train/test split\n",
    "X_train, X_test, y_train, y_test = train_test_split(X, y, shuffle=False, test_size=0.2)\n",
    "\n",
    "# Train model\n",
    "model = RandomForestClassifier(n_estimators=100, random_state=42)\n",
    "model.fit(X_train, y_train)\n",
    "\n",
    "# Predictions\n",
    "y_pred = model.predict(X_test)\n",
    "\n",
    "# Metrics\n",
    "# report = classification_report(y_test, y_pred, output_dict=True)\n",
    "print(classification_report(y_test, y_pred))\n",
    "\n",
    "# Confusion matrix\n",
    "# conf_matrix = confusion_matrix(y_test, y_pred)\n",
    "# # Feature importance\n",
    "feature_importances = pd.Series(model.feature_importances_, index=features).sort_values(ascending=False)\n",
    "# feature_importances\n",
    "# import ace_tools as tools; tools.display_dataframe_to_user(name=\"Classification Report\", dataframe=pd.DataFrame(report).T)\n",
    "\n",
    "# (conf_matrix, feature_importances)\n"
   ]
  },
  {
   "cell_type": "markdown",
   "metadata": {},
   "source": [
    "# Model 2 - XGBoost\n",
    "* Install the xgboost library"
   ]
  },
  {
   "cell_type": "code",
   "execution_count": 68,
   "metadata": {},
   "outputs": [
    {
     "name": "stdout",
     "output_type": "stream",
     "text": [
      "              precision    recall  f1-score   support\n",
      "\n",
      "           0       0.34      0.17      0.23       138\n",
      "           1       0.61      0.79      0.69       224\n",
      "\n",
      "    accuracy                           0.56       362\n",
      "   macro avg       0.47      0.48      0.46       362\n",
      "weighted avg       0.51      0.56      0.51       362\n",
      "\n"
     ]
    },
    {
     "name": "stderr",
     "output_type": "stream",
     "text": [
      "/Users/srishyamraghavan/Desktop/.conda/lib/python3.11/site-packages/xgboost/training.py:183: UserWarning: [16:30:49] WARNING: /Users/runner/work/xgboost/xgboost/src/learner.cc:738: \n",
      "Parameters: { \"use_label_encoder\" } are not used.\n",
      "\n",
      "  bst.update(dtrain, iteration=i, fobj=obj)\n"
     ]
    }
   ],
   "source": [
    "import xgboost as xgb\n",
    "from sklearn.model_selection import train_test_split\n",
    "from sklearn.metrics import classification_report\n",
    "\n",
    "# Reuse your features and target\n",
    "# features = [\"Return\", \"Volatility\", \"Momentum\", \"SMA_ratio\"]\n",
    "features = [\"Return\", \"Volatility\", \"Momentum\", ]\n",
    "X = df[features]\n",
    "y = df[\"Signal\"]\n",
    "\n",
    "# Train-test split (keep it consistent)\n",
    "X_train, X_test, y_train, y_test = train_test_split(X, y, shuffle=False, test_size=0.2)\n",
    "\n",
    "# Instantiate XGBoost classifier\n",
    "model = xgb.XGBClassifier(\n",
    "    objective=\"binary:logistic\",\n",
    "    eval_metric=\"logloss\",\n",
    "    use_label_encoder=False,\n",
    "    max_depth=5,\n",
    "    learning_rate=0.1,\n",
    "    n_estimators=100,\n",
    "    random_state=42\n",
    ")\n",
    "\n",
    "# Train the model\n",
    "model.fit(X_train, y_train)\n",
    "\n",
    "# Predict and evaluate\n",
    "y_pred = model.predict(X_test)\n",
    "print(classification_report(y_test, y_pred))\n"
   ]
  }
 ],
 "metadata": {
  "kernelspec": {
   "display_name": "Python 3",
   "language": "python",
   "name": "python3"
  },
  "language_info": {
   "codemirror_mode": {
    "name": "ipython",
    "version": 3
   },
   "file_extension": ".py",
   "mimetype": "text/x-python",
   "name": "python",
   "nbconvert_exporter": "python",
   "pygments_lexer": "ipython3",
   "version": "3.11.11"
  }
 },
 "nbformat": 4,
 "nbformat_minor": 2
}
